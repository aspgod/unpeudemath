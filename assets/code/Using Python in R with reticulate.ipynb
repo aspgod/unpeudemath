{
 "cells": [
  {
   "cell_type": "markdown",
   "metadata": {},
   "source": [
    "This notebook accompanies this blog post: http://vknight.org/unpeudemath/python/2017/09/16/using-python-in-R-to-study-the-ipd.html"
   ]
  },
  {
   "cell_type": "markdown",
   "metadata": {},
   "source": [
    "## Studying the Iterated Prisoner's Dilemma"
   ]
  },
  {
   "cell_type": "code",
   "execution_count": 38,
   "metadata": {},
   "outputs": [],
   "source": [
    "library(reticulate)  # Loading the `reticulate` library\n",
    "axl <- import(\"axelrod\")  # Importing axelrod as axl"
   ]
  },
  {
   "cell_type": "code",
   "execution_count": 39,
   "metadata": {
    "collapsed": true
   },
   "outputs": [],
   "source": [
    "tft <- axl$TitForTat()\n",
    "alt <- axl$Alternator()\n",
    "match <- axl$Match(c(tft, alt))"
   ]
  },
  {
   "cell_type": "code",
   "execution_count": 40,
   "metadata": {
    "collapsed": true
   },
   "outputs": [],
   "source": [
    "interactions <- match$play()"
   ]
  },
  {
   "cell_type": "code",
   "execution_count": 41,
   "metadata": {},
   "outputs": [
    {
     "data": {
      "text/html": [
       "<ol>\n",
       "\t<li>2.49</li>\n",
       "\t<li>2.515</li>\n",
       "</ol>\n"
      ],
      "text/latex": [
       "\\begin{enumerate}\n",
       "\\item 2.49\n",
       "\\item 2.515\n",
       "\\end{enumerate}\n"
      ],
      "text/markdown": [
       "1. 2.49\n",
       "2. 2.515\n",
       "\n",
       "\n"
      ],
      "text/plain": [
       "[[1]]\n",
       "[1] 2.49\n",
       "\n",
       "[[2]]\n",
       "[1] 2.515\n"
      ]
     },
     "metadata": {},
     "output_type": "display_data"
    }
   ],
   "source": [
    "match$final_score_per_turn()"
   ]
  },
  {
   "cell_type": "code",
   "execution_count": 42,
   "metadata": {},
   "outputs": [
    {
     "data": {
      "text/html": [
       "<ol class=list-inline>\n",
       "\t<li>'Defector'</li>\n",
       "\t<li>'Tit For Tat'</li>\n",
       "\t<li>'Grudger'</li>\n",
       "\t<li>'Cooperator'</li>\n",
       "</ol>\n"
      ],
      "text/latex": [
       "\\begin{enumerate*}\n",
       "\\item 'Defector'\n",
       "\\item 'Tit For Tat'\n",
       "\\item 'Grudger'\n",
       "\\item 'Cooperator'\n",
       "\\end{enumerate*}\n"
      ],
      "text/markdown": [
       "1. 'Defector'\n",
       "2. 'Tit For Tat'\n",
       "3. 'Grudger'\n",
       "4. 'Cooperator'\n",
       "\n",
       "\n"
      ],
      "text/plain": [
       "[1] \"Defector\"    \"Tit For Tat\" \"Grudger\"     \"Cooperator\" "
      ]
     },
     "metadata": {},
     "output_type": "display_data"
    }
   ],
   "source": [
    "players <- c(axl$Cooperator(), axl$Defector(), axl$TitForTat(), axl$Grudger())\n",
    "tournament <- axl$Tournament(players)\n",
    "results <- tournament$play()\n",
    "results$ranked_names"
   ]
  },
  {
   "cell_type": "markdown",
   "metadata": {},
   "source": [
    "The version of the Axelrod library used (note that `_` can't be used in R right after a `$`):"
   ]
  },
  {
   "cell_type": "code",
   "execution_count": 43,
   "metadata": {},
   "outputs": [
    {
     "data": {
      "text/html": [
       "'3.5.0'"
      ],
      "text/latex": [
       "'3.5.0'"
      ],
      "text/markdown": [
       "'3.5.0'"
      ],
      "text/plain": [
       "[1] \"3.5.0\""
      ]
     },
     "metadata": {},
     "output_type": "display_data"
    }
   ],
   "source": [
    "axl$\"__version__\""
   ]
  },
  {
   "cell_type": "code",
   "execution_count": 44,
   "metadata": {},
   "outputs": [
    {
     "data": {
      "text/html": [
       "202"
      ],
      "text/latex": [
       "202"
      ],
      "text/markdown": [
       "202"
      ],
      "text/plain": [
       "[1] 202"
      ]
     },
     "metadata": {},
     "output_type": "display_data"
    }
   ],
   "source": [
    "length(axl$strategies)"
   ]
  },
  {
   "cell_type": "markdown",
   "metadata": {},
   "source": [
    "## Nash equilibria"
   ]
  },
  {
   "cell_type": "code",
   "execution_count": 45,
   "metadata": {
    "collapsed": true
   },
   "outputs": [],
   "source": [
    "nash <- import(\"nash\")\n",
    "A = matrix(c(0, -1, 1, 1, 0, -1, -1, 1, 0), nrow=3, ncol=3)\n",
    "rps <- nash$Game(A)\n",
    "eq <- rps$vertex_enumeration()"
   ]
  },
  {
   "cell_type": "code",
   "execution_count": 46,
   "metadata": {},
   "outputs": [
    {
     "data": {
      "text/html": [
       "<ol>\n",
       "\t<li><ol class=list-inline>\n",
       "\t<li>0.333333333333333</li>\n",
       "\t<li>0.333333333333333</li>\n",
       "\t<li>0.333333333333333</li>\n",
       "</ol>\n",
       "</li>\n",
       "\t<li><ol class=list-inline>\n",
       "\t<li>0.333333333333333</li>\n",
       "\t<li>0.333333333333333</li>\n",
       "\t<li>0.333333333333333</li>\n",
       "</ol>\n",
       "</li>\n",
       "</ol>\n"
      ],
      "text/latex": [
       "\\begin{enumerate}\n",
       "\\item \\begin{enumerate*}\n",
       "\\item 0.333333333333333\n",
       "\\item 0.333333333333333\n",
       "\\item 0.333333333333333\n",
       "\\end{enumerate*}\n",
       "\n",
       "\\item \\begin{enumerate*}\n",
       "\\item 0.333333333333333\n",
       "\\item 0.333333333333333\n",
       "\\item 0.333333333333333\n",
       "\\end{enumerate*}\n",
       "\n",
       "\\end{enumerate}\n"
      ],
      "text/markdown": [
       "1. 1. 0.333333333333333\n",
       "2. 0.333333333333333\n",
       "3. 0.333333333333333\n",
       "\n",
       "\n",
       "\n",
       "2. 1. 0.333333333333333\n",
       "2. 0.333333333333333\n",
       "3. 0.333333333333333\n",
       "\n",
       "\n",
       "\n",
       "\n",
       "\n"
      ],
      "text/plain": [
       "[[1]]\n",
       "[1] 0.3333333 0.3333333 0.3333333\n",
       "\n",
       "[[2]]\n",
       "[1] 0.3333333 0.3333333 0.3333333\n"
      ]
     },
     "metadata": {},
     "output_type": "display_data"
    }
   ],
   "source": [
    "iter_next(eq)"
   ]
  },
  {
   "cell_type": "code",
   "execution_count": 47,
   "metadata": {},
   "outputs": [
    {
     "data": {
      "text/plain": [
       "NULL"
      ]
     },
     "metadata": {},
     "output_type": "display_data"
    }
   ],
   "source": [
    "iter_next(eq)"
   ]
  }
 ],
 "metadata": {
  "anaconda-cloud": {},
  "kernelspec": {
   "display_name": "R",
   "language": "R",
   "name": "ir"
  },
  "language_info": {
   "codemirror_mode": "r",
   "file_extension": ".r",
   "mimetype": "text/x-r-source",
   "name": "R",
   "pygments_lexer": "r",
   "version": "3.4.1"
  },
  "widgets": {
   "state": {},
   "version": "1.0.0"
  }
 },
 "nbformat": 4,
 "nbformat_minor": 2
}
