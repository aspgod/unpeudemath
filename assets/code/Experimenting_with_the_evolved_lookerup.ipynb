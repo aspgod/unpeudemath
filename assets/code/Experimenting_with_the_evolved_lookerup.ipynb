{
 "cells": [
  {
   "cell_type": "code",
   "execution_count": 22,
   "metadata": {
    "collapsed": true
   },
   "outputs": [],
   "source": [
    "import axelrod as axl\n",
    "import csv\n",
    "import random\n",
    "import matplotlib.pyplot as plt\n",
    "import seaborn\n",
    "%matplotlib inline"
   ]
  },
  {
   "cell_type": "code",
   "execution_count": 43,
   "metadata": {
    "collapsed": false
   },
   "outputs": [],
   "source": [
    "strategies = [s() for s in axl.strategies if axl.obey_axelrod(s) and s != axl.EvolvedLookerUp] "
   ]
  },
  {
   "cell_type": "code",
   "execution_count": 44,
   "metadata": {
    "collapsed": false
   },
   "outputs": [
    {
     "data": {
      "text/plain": [
       "107"
      ]
     },
     "execution_count": 44,
     "metadata": {},
     "output_type": "execute_result"
    }
   ],
   "source": [
    "len(strategies)"
   ]
  },
  {
   "cell_type": "code",
   "execution_count": 53,
   "metadata": {
    "collapsed": true
   },
   "outputs": [],
   "source": [
    "def rank(strategies, repetitions=10, processes=None):\n",
    "    \"\"\"Return the rank of the evolved lookerup strategy in a tournament with given strats\"\"\"\n",
    "    strategies.append(axl.EvolvedLookerUp())\n",
    "    tournament = axl.Tournament(strategies, repetitions=repetitions, processes=-1)\n",
    "    results = tournament.play()\n",
    "    return results.ranking[-1], results.wins[-1]"
   ]
  },
  {
   "cell_type": "code",
   "execution_count": 54,
   "metadata": {
    "collapsed": true
   },
   "outputs": [],
   "source": [
    "subset = random.sample(strategies, 4)"
   ]
  },
  {
   "cell_type": "code",
   "execution_count": 55,
   "metadata": {
    "collapsed": false
   },
   "outputs": [],
   "source": [
    "subset.append(axl.EvolvedLookerUp())"
   ]
  },
  {
   "cell_type": "code",
   "execution_count": 56,
   "metadata": {
    "collapsed": false
   },
   "outputs": [],
   "source": [
    "tournament = axl.Tournament(subset, repetitions=1, processes=-1)\n",
    "results = tournament.play()"
   ]
  },
  {
   "cell_type": "code",
   "execution_count": 57,
   "metadata": {
    "collapsed": false
   },
   "outputs": [
    {
     "data": {
      "text/plain": [
       "[Inverse, Meta Hunter, Hard Go By Majority: 5, ZD-Extort-2, EvolvedLookerUp]"
      ]
     },
     "execution_count": 57,
     "metadata": {},
     "output_type": "execute_result"
    }
   ],
   "source": [
    "tournament.players"
   ]
  },
  {
   "cell_type": "code",
   "execution_count": 58,
   "metadata": {
    "collapsed": false
   },
   "outputs": [
    {
     "data": {
      "text/plain": [
       "[[0], [2], [0], [6], [2]]"
      ]
     },
     "execution_count": 58,
     "metadata": {},
     "output_type": "execute_result"
    }
   ],
   "source": [
    "results.wins"
   ]
  },
  {
   "cell_type": "code",
   "execution_count": 59,
   "metadata": {
    "collapsed": false
   },
   "outputs": [
    {
     "data": {
      "text/plain": [
       "[4, 0, 3, 1, 2]"
      ]
     },
     "execution_count": 59,
     "metadata": {},
     "output_type": "execute_result"
    }
   ],
   "source": [
    "results.ranking"
   ]
  },
  {
   "cell_type": "code",
   "execution_count": 63,
   "metadata": {
    "collapsed": false
   },
   "outputs": [],
   "source": [
    "max_size = 40  # Max size of tournaments considered\n",
    "tournaments = min(max_size - 1, 30)  # Number of tournaments of each size to run\n",
    "repetitions = 10  # Number of repetitions of each tournament \n",
    "\n",
    "data = []\n",
    "\n",
    "f = open('data.csv', 'w')\n",
    "csvwrtr = csv.writer(f)\n",
    "\n",
    "for size in range(1, max_size):\n",
    "    row = [size]\n",
    "    for k in range(tournaments):\n",
    "        s = random.sample(strategies, size)\n",
    "        row.append([s, rank(s, repetitions=repetitions)])\n",
    "    data.append(row)\n",
    "    csvwrtr.writerow(row)\n",
    "f.close()"
   ]
  },
  {
   "cell_type": "code",
   "execution_count": 64,
   "metadata": {
    "collapsed": false
   },
   "outputs": [
    {
     "data": {
      "text/plain": [
       "39"
      ]
     },
     "execution_count": 64,
     "metadata": {},
     "output_type": "execute_result"
    }
   ],
   "source": [
    "len(data)"
   ]
  },
  {
   "cell_type": "code",
   "execution_count": 31,
   "metadata": {
    "collapsed": false
   },
   "outputs": [
    {
     "name": "stdout",
     "output_type": "stream",
     "text": [
      "\"[1, [Cautious QLearner, EvolvedLookerUp], 0]\",\"[1, [Inverse, EvolvedLookerUp], 1]\"\r",
      "\r\n",
      "\"[2, [ZD-GTFT-2, Retaliate (0.05), EvolvedLookerUp], 2]\",\"[2, [Tullock, $e$, EvolvedLookerUp], 0]\"\r",
      "\r\n",
      "\"[3, [Risky QLearner, Random Hunter, Shubik, EvolvedLookerUp], 0]\",\"[3, [Cycler CCD, $\\pi$, Forgetful Grudger, EvolvedLookerUp], 0]\"\r",
      "\r\n"
     ]
    }
   ],
   "source": [
    "!cat data.csv"
   ]
  },
  {
   "cell_type": "code",
   "execution_count": null,
   "metadata": {
    "collapsed": true
   },
   "outputs": [],
   "source": []
  }
 ],
 "metadata": {
  "kernelspec": {
   "display_name": "Python 2",
   "language": "python",
   "name": "python2"
  },
  "language_info": {
   "codemirror_mode": {
    "name": "ipython",
    "version": 2
   },
   "file_extension": ".py",
   "mimetype": "text/x-python",
   "name": "python",
   "nbconvert_exporter": "python",
   "pygments_lexer": "ipython2",
   "version": "2.7.6"
  }
 },
 "nbformat": 4,
 "nbformat_minor": 0
}
