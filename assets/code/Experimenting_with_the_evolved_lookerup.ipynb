{
 "cells": [
  {
   "cell_type": "code",
   "execution_count": 1,
   "metadata": {
    "collapsed": false
   },
   "outputs": [
    {
     "name": "stderr",
     "output_type": "stream",
     "text": [
      "/usr/local/lib/python2.7/dist-packages/matplotlib/__init__.py:872: UserWarning: axes.color_cycle is deprecated and replaced with axes.prop_cycle; please use the latter.\n",
      "  warnings.warn(self.msg_depr % (key, alt_key))\n"
     ]
    }
   ],
   "source": [
    "import axelrod as axl\n",
    "import csv\n",
    "import random\n",
    "import matplotlib.pyplot as plt\n",
    "import seaborn as sns\n",
    "import pandas\n",
    "import numpy as np\n",
    "import copy\n",
    "%matplotlib inline\n",
    "sns.set_style(\"darkgrid\", {\"axes.facecolor\": \".9\"})"
   ]
  },
  {
   "cell_type": "markdown",
   "metadata": {},
   "source": [
    "## Creating our data set\n",
    "\n",
    "Generating all the random tournaments and saving to [data.csv](data.csv)."
   ]
  },
  {
   "cell_type": "code",
   "execution_count": 2,
   "metadata": {
    "collapsed": false
   },
   "outputs": [],
   "source": [
    "test_strategies = [axl.EvolvedLookerUp, axl.TitForTat, axl.Cooperator, axl.Defector, axl.DoubleCrosser]\n",
    "strategies = [s() for s in axl.strategies if axl.obey_axelrod(s) and s not in test_strategies] "
   ]
  },
  {
   "cell_type": "code",
   "execution_count": 3,
   "metadata": {
    "collapsed": false
   },
   "outputs": [
    {
     "data": {
      "text/plain": [
       "103"
      ]
     },
     "execution_count": 3,
     "metadata": {},
     "output_type": "execute_result"
    }
   ],
   "source": [
    "len(strategies)"
   ]
  },
  {
   "cell_type": "code",
   "execution_count": 4,
   "metadata": {
    "collapsed": false
   },
   "outputs": [],
   "source": [
    "def rank(strategies, test_strategy=axl.EvolvedLookerUp, repetitions=10, processes=None):\n",
    "    \"\"\"Return the rank of the test_strategy in a tournament with given strats\"\"\"\n",
    "    strategies.append(test_strategy())\n",
    "    tournament = axl.Tournament(strategies, repetitions=repetitions, processes=-1)\n",
    "    results = tournament.play()\n",
    "    return results.ranking[-1], results.wins[-1]"
   ]
  },
  {
   "cell_type": "markdown",
   "metadata": {},
   "source": [
    "Actually running the experiments (this takes a while)."
   ]
  },
  {
   "cell_type": "code",
   "execution_count": 5,
   "metadata": {
    "collapsed": true
   },
   "outputs": [],
   "source": [
    "max_size = 51  # Max size of tournaments considered\n",
    "tournaments = min(max_size - 1, 30)  # Number of tournaments of each size to run\n",
    "repetitions = 10  # Number of repetitions of each tournament "
   ]
  },
  {
   "cell_type": "code",
   "execution_count": null,
   "metadata": {
    "collapsed": false
   },
   "outputs": [],
   "source": [
    "f_lookerup = open('data-lookerup.csv', 'w')\n",
    "csvwrtr_lookerup = csv.writer(f_lookerup)\n",
    "f_titfortat = open('data-titfortat.csv', 'w')\n",
    "csvwrtr_titfortat = csv.writer(f_titfortat)\n",
    "f_cooperator = open('data-cooperator.csv', 'w')\n",
    "csvwrtr_cooperator = csv.writer(f_cooperator)\n",
    "f_defector = open('data-defector.csv', 'w')\n",
    "csvwrtr_defector = csv.writer(f_defector)\n",
    "f_doublcrosser = open('data-doublecrosser.csv', 'w')\n",
    "csvwrtr_doublcrosser = csv.writer(f_doublcrosser)\n",
    "\n",
    "data_lookerup = []\n",
    "data_titfortat = []\n",
    "data_cooperator = []\n",
    "data_defector = []\n",
    "data_doublecrosser = []\n",
    "\n",
    "for size in range(1, max_size):\n",
    "    \n",
    "    row_lookerup = [size]\n",
    "    row_titfortat = [size]\n",
    "    row_cooperator = [size]\n",
    "    row_defector = [size]\n",
    "    row_doublecrosser = [size]\n",
    "\n",
    "    for k in range(tournaments):\n",
    "        \n",
    "        s = random.sample(strategies, size)\n",
    "        strategy_labels = \";\".join([str(st) for st in s])\n",
    "        \n",
    "        row_lookerup.append([strategy_labels, rank(copy.copy(s), test_strategy=axl.EvolvedLookerUp, repetitions=repetitions)])\n",
    "        row_titfortat.append([strategy_labels, rank(copy.copy(s), test_strategy=axl.TitForTat, repetitions=repetitions)])\n",
    "        row_cooperator.append([strategy_labels, rank(copy.copy(s), test_strategy=axl.Cooperator, repetitions=repetitions)])\n",
    "        row_defector.append([strategy_labels, rank(copy.copy(s), test_strategy=axl.Defector, repetitions=repetitions)])\n",
    "        row_doublecrosser.append([strategy_labels, rank(copy.copy(s), test_strategy=axl.DoubleCrosser, repetitions=repetitions)])\n",
    "     \n",
    "\n",
    "    data_lookerup.append(row_lookerup)\n",
    "    csvwrtr_lookerup.writerow(row_lookerup)\n",
    "    \n",
    "    data_titfortat.append(row_titfortat)\n",
    "    csvwrtr_titfortat.writerow(row_titfortat)\n",
    "    \n",
    "    data_cooperator.append(row_cooperator)\n",
    "    csvwrtr_cooperator.writerow(row_cooperator)\n",
    "    \n",
    "    data_defector.append(row_defector)\n",
    "    csvwrtr_defector.writerow(row_defector)\n",
    "    \n",
    "    data_doublecrosser.append(row_doublecrosser)\n",
    "    csvwrtr_doublcrosser.writerow(row_doublecrosser)\n",
    "    \n",
    "f_lookerup.close()\n",
    "f_titfortat.close()\n",
    "f_cooperator.close()\n",
    "f_defector.close()\n",
    "f_doublcrosser.close()"
   ]
  },
  {
   "cell_type": "markdown",
   "metadata": {
    "collapsed": true
   },
   "source": [
    "## Analysing the data\n",
    "\n",
    "Now to analyse the results."
   ]
  },
  {
   "cell_type": "code",
   "execution_count": null,
   "metadata": {
    "collapsed": false
   },
   "outputs": [],
   "source": [
    "def make_df(row, df):\n",
    "    data = []\n",
    "    for ele in list(df.ix[row,1:]):\n",
    "        data.append([eval(ele)[0].split(\";\")] + list(eval(ele)[1]))\n",
    "    return pandas.DataFrame(data, columns=[\"Strategies\", \"Rank\", \"Wins\"])"
   ]
  },
  {
   "cell_type": "code",
   "execution_count": null,
   "metadata": {
    "collapsed": false
   },
   "outputs": [],
   "source": [
    "def make_rank_plot(df, filename):\n",
    "    \"\"\"Function to plot rank\"\"\"\n",
    "    plt.figure(figsize=(10, 6))\n",
    "    plt.xlabel(\"Number of opponents\")\n",
    "    plt.ylabel(\"Rank\")\n",
    "    plt.title(filename)\n",
    "    return plt.boxplot([d[\"Rank\"] for d in df[\"Data\"]])\n",
    "\n",
    "def make_proportional_rank_plot(df, filename):\n",
    "    \"\"\"Function to plot normalised rank\"\"\"\n",
    "    plt.figure(figsize=(10, 6))\n",
    "    plt.xlabel(\"Number of opponents\")\n",
    "    plt.ylabel(\"Proportional rank\")\n",
    "    plt.title(filename)\n",
    "    return plt.boxplot([d[\"Rank\"] / (len(d[\"Strategies\"][0])) for d in df[\"Data\"]])\n",
    "\n",
    "def make_wins_plot(df, filename):\n",
    "    \"\"\"Function to plot wins\"\"\"\n",
    "    plt.figure(figsize=(10, 6))\n",
    "    plt.xlabel(\"Number of opponents\")\n",
    "    plt.ylabel(\"Wins\")\n",
    "    plt.title(filename)\n",
    "    return plt.boxplot([[np.mean(r) / 2 for r in d[\"Wins\"]] for d in df[\"Data\"]])\n",
    "\n",
    "def make_proportional_wins_plot(df, filename):\n",
    "    \"\"\"Function to plot normalised wins\"\"\"\n",
    "    plt.figure(figsize=(10, 6))\n",
    "    plt.xlabel(\"Number of opponents\")\n",
    "    plt.ylabel(\"Proportional wins\")\n",
    "    plt.title(filename)\n",
    "    return plt.boxplot([[np.mean(r) / 2 / (len(d[\"Strategies\"][0])) for r in d[\"Wins\"]] for d in df[\"Data\"]])"
   ]
  },
  {
   "cell_type": "code",
   "execution_count": null,
   "metadata": {
    "collapsed": false
   },
   "outputs": [],
   "source": [
    "def read_data_and_plot(data_file, tournaments=tournaments):\n",
    "    raw_df = pandas.read_csv(data_file, header=None, names=[\"Number of strategies\"] + range(1, tournaments + 1))\n",
    "    df = pandas.DataFrame([[row + 3, make_df(row, raw_df)] for row in range(len(raw_df))], columns=[\"Strategies\", \"Data\"])\n",
    "\n",
    "    make_rank_plot(df, data_file);\n",
    "    make_proportional_rank_plot(df, data_file);\n",
    "    make_wins_plot(df, data_file);\n",
    "    make_proportional_wins_plot(df, data_file);"
   ]
  },
  {
   "cell_type": "code",
   "execution_count": null,
   "metadata": {
    "collapsed": false,
    "scrolled": false
   },
   "outputs": [],
   "source": [
    "for data_file in [\"data-lookerup.csv\", \"data-titfortat.csv\", \"data-cooperator.csv\", \"data-defector.csv\", \"data-doublecrosser.csv\"]:\n",
    "    read_data_and_plot(data_file)"
   ]
  },
  {
   "cell_type": "code",
   "execution_count": null,
   "metadata": {
    "collapsed": true
   },
   "outputs": [],
   "source": []
  }
 ],
 "metadata": {
  "kernelspec": {
   "display_name": "Python 2",
   "language": "python",
   "name": "python2"
  },
  "language_info": {
   "codemirror_mode": {
    "name": "ipython",
    "version": 2
   },
   "file_extension": ".py",
   "mimetype": "text/x-python",
   "name": "python",
   "nbconvert_exporter": "python",
   "pygments_lexer": "ipython2",
   "version": "2.7.6"
  }
 },
 "nbformat": 4,
 "nbformat_minor": 0
}
