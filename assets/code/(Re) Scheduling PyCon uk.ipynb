{
 "cells": [
  {
   "cell_type": "code",
   "execution_count": 1,
   "metadata": {
    "collapsed": true
   },
   "outputs": [],
   "source": [
    "import conference_scheduler\n",
    "from conference_scheduler.resources import Slot, Event\n",
    "import pulp\n",
    "import itertools"
   ]
  },
  {
   "cell_type": "code",
   "execution_count": 2,
   "metadata": {
    "collapsed": true
   },
   "outputs": [],
   "source": [
    "assert conference_scheduler.__version__ == \"1.1.0\""
   ]
  },
  {
   "cell_type": "code",
   "execution_count": 3,
   "metadata": {
    "collapsed": true
   },
   "outputs": [],
   "source": [
    "rooms = [\"Assembly room\", \"Room D\", \"Ferrier Hall\", \"Room C\"]\n",
    "days = ['16-Sep-2016', '17-Sep-2016', '18-Sep-2016']\n",
    "times_and_durations = [('10:15', 30), ('11:15', 45), ('12:00', 30), ('12:30', 30), ('14:30', 30), \n",
    "                       ('15:00', 30), ('15:30', 30), ('16:30', 30), ('17:00', 30)]\n",
    "day_period = {('10:15', 30) : \"Morning A\",\n",
    "              ('11:15', 45) : \"Morning B\", \n",
    "              ('12:00', 30) : \"Morning B\",\n",
    "              ('12:30', 30) : \"Morning B\",\n",
    "              ('14:30', 30) : \"Afternoon\", \n",
    "              ('15:00', 30) : \"Afternoon\", \n",
    "              ('15:30', 30) : \"Afternoon\",\n",
    "              ('16:30', 30) : \"Evening\", \n",
    "              ('17:00', 30) : \"Evening\"}\n",
    "\n",
    "room_capacity = {\"Assembly room\": 500,\n",
    "                 \"Room D\": 100,\n",
    "                 \"Ferrier Hall\": 200,\n",
    "                 \"Room C\": 80}"
   ]
  },
  {
   "cell_type": "code",
   "execution_count": 4,
   "metadata": {},
   "outputs": [],
   "source": [
    "talk_slots = []\n",
    "for room, day, time_and_duration in itertools.product(rooms, days, times_and_durations):\n",
    "    if (room, day) not in [(\"Room C\", '16-Sep-2016'), \n",
    "                           (\"Room C\", '18-Sep-2016')]: # Rooms, Days used for workshops\n",
    "        time, duration = time_and_duration\n",
    "        session = f\"Talks: {day} {day_period[time_and_duration]}\"\n",
    "        starts_at = f\"{day} {time}\"\n",
    "        capacity = room_capacity[room]\n",
    "        talk_slots.append(Slot(venue=room, starts_at=starts_at, duration=duration, session=session, capacity=capacity))"
   ]
  },
  {
   "cell_type": "code",
   "execution_count": 5,
   "metadata": {},
   "outputs": [
    {
     "data": {
      "text/plain": [
       "90"
      ]
     },
     "execution_count": 5,
     "metadata": {},
     "output_type": "execute_result"
    }
   ],
   "source": [
    "len(talk_slots)"
   ]
  },
  {
   "cell_type": "code",
   "execution_count": 6,
   "metadata": {
    "collapsed": true
   },
   "outputs": [],
   "source": [
    "rooms = [\"Room C\", \"Room A\"]\n",
    "days = ['18-Sep-2016']\n",
    "times_and_durations = [('10:15', 45), ('11:15', 105), ('14:30', 90), ('16:30', 60)]"
   ]
  },
  {
   "cell_type": "code",
   "execution_count": 7,
   "metadata": {
    "collapsed": true
   },
   "outputs": [],
   "source": [
    "workshop_slots = []\n",
    "\n",
    "for room, day, time_and_duration in itertools.product(rooms, days, times_and_durations):\n",
    "        time, duration = time_and_duration\n",
    "        session = f\"Workshop: {day} {time}\"\n",
    "        starts_at = f\"{day} {time}\"\n",
    "        capacity = 80\n",
    "        workshop_slots.append(Slot(venue=room, starts_at=starts_at, duration=duration, session=session, capacity=capacity))"
   ]
  },
  {
   "cell_type": "code",
   "execution_count": 8,
   "metadata": {},
   "outputs": [
    {
     "data": {
      "text/plain": [
       "8"
      ]
     },
     "execution_count": 8,
     "metadata": {},
     "output_type": "execute_result"
    }
   ],
   "source": [
    "len(workshop_slots)"
   ]
  },
  {
   "cell_type": "code",
   "execution_count": 9,
   "metadata": {
    "collapsed": true
   },
   "outputs": [],
   "source": [
    "plenary_slots = [Slot(venue=\"Assembly Room\", starts_at='16-Sep-2016 09:10', duration=50, session=\"Plenary: 16-Sep-2016\", capacity=500),\n",
    "                 Slot(venue=\"Assembly Room\", starts_at='17-Sep-2016 09:10', duration=50, session=\"Plenary: 17-Sep-2016\", capacity=500),\n",
    "                 Slot(venue=\"Assembly Room\", starts_at='18-Sep-2016 09:10', duration=50, session=\"Plenary: 18-Sep-2016\", capacity=500)]"
   ]
  },
  {
   "cell_type": "code",
   "execution_count": 10,
   "metadata": {
    "collapsed": true
   },
   "outputs": [],
   "source": [
    "slots = talk_slots + plenary_slots + workshop_slots"
   ]
  },
  {
   "cell_type": "code",
   "execution_count": 11,
   "metadata": {
    "collapsed": true
   },
   "outputs": [],
   "source": [
    "import csv\n",
    "with open(\"../data/pycon_2016_talks.csv\", \"r\") as f:\n",
    "    reader = csv.reader(f)\n",
    "    next(reader)  # Throw away the header\n",
    "    raw_talks = list(reader)"
   ]
  },
  {
   "cell_type": "code",
   "execution_count": 12,
   "metadata": {},
   "outputs": [],
   "source": [
    "talks = []\n",
    "for row in raw_talks:\n",
    "    name = row[0]\n",
    "    duration = int(row[1])\n",
    "    tags = [row[2]] if row[2] != '' else []\n",
    "    talks.append(Event(name=name, duration=duration, tags=tags, unavailability=plenary_slots[:], demand=None))"
   ]
  },
  {
   "cell_type": "code",
   "execution_count": 13,
   "metadata": {},
   "outputs": [
    {
     "data": {
      "text/plain": [
       "69"
      ]
     },
     "execution_count": 13,
     "metadata": {},
     "output_type": "execute_result"
    }
   ],
   "source": [
    "len(talks)"
   ]
  },
  {
   "cell_type": "code",
   "execution_count": 14,
   "metadata": {},
   "outputs": [],
   "source": [
    "education_talks = [talk for talk in talks if \"Education\" in talk.tags]\n",
    "slots_not_on_last_day = [slot for slot in talk_slots if ('16-Sep-2016' in slot.starts_at) or ('17-Sep-2016' in slot.starts_at)]\n",
    "for talk in education_talks:\n",
    "    talk.unavailability.extend(education_talks[:])\n",
    "    talk.unavailability.extend(slots_not_on_last_day)"
   ]
  },
  {
   "cell_type": "code",
   "execution_count": 15,
   "metadata": {
    "collapsed": true
   },
   "outputs": [],
   "source": [
    "plenary_talks = [Event(name=\"Python and the Glories of the UNIX Tradition\", \n",
    "                 duration=50, tags=[], unavailability=talk_slots[:] + workshop_slots[:], demand=None),\n",
    "                 Event(name=\"Folklore and fantasy in the information age\", \n",
    "                 duration=50, tags=[], unavailability=talk_slots[:] + workshop_slots[:], demand=None),\n",
    "                 Event(name=\"An Arabish lesson: Introducing Django to the foreign world\", \n",
    "                 duration=50, tags=[], unavailability=talk_slots[:] + workshop_slots[:], demand=None)]"
   ]
  },
  {
   "cell_type": "code",
   "execution_count": 16,
   "metadata": {
    "collapsed": true
   },
   "outputs": [],
   "source": [
    "workshops = [Event(name=\"Open Data projects with Python\", duration=45, tags=[], \n",
    "                   unavailability=talk_slots[:] + plenary_slots[:], \n",
    "                   demand=None),\n",
    "             Event(name=\"Dive Into Object-oriented Python\", duration=45, tags=[], \n",
    "                   unavailability=talk_slots[:] + plenary_slots[:], \n",
    "                   demand=None),\n",
    "             Event(name=\"An introduction to deep learning\", duration=105, tags=[], \n",
    "                   unavailability=talk_slots[:] + plenary_slots[:], \n",
    "                   demand=None),\n",
    "             Event(name=\"Dive Into Object-oriented Python (cont.)\", duration=105, tags=[], \n",
    "                   unavailability=talk_slots[:] + plenary_slots[:], \n",
    "                   demand=None),\n",
    "             Event(name=\"Python for Scientists (feat. Software Carpentry)\", duration=90, tags=[], \n",
    "                   unavailability=talk_slots[:] + plenary_slots[:], \n",
    "                   demand=None),\n",
    "             Event(name=\"Data Wrangling with Python\", duration=90, tags=[], \n",
    "                   unavailability=talk_slots[:] + plenary_slots[:], \n",
    "                   demand=None),\n",
    "             Event(name=\"Users are not the only people\", duration=60, tags=[], \n",
    "                   unavailability=talk_slots[:] + plenary_slots[:], \n",
    "                   demand=None)]"
   ]
  },
  {
   "cell_type": "code",
   "execution_count": 17,
   "metadata": {
    "collapsed": true
   },
   "outputs": [],
   "source": [
    "events = talks + plenary_talks + workshops"
   ]
  },
  {
   "cell_type": "code",
   "execution_count": 18,
   "metadata": {
    "scrolled": false
   },
   "outputs": [
    {
     "name": "stdout",
     "output_type": "stream",
     "text": [
      "CPU times: user 12.9 s, sys: 152 ms, total: 13.1 s\n",
      "Wall time: 24.2 s\n"
     ]
    }
   ],
   "source": [
    "%%time\n",
    "from conference_scheduler import scheduler\n",
    "schedule = scheduler.schedule(events=events, slots=slots, solver=pulp.GLPK())"
   ]
  },
  {
   "cell_type": "code",
   "execution_count": 19,
   "metadata": {},
   "outputs": [],
   "source": [
    "schedule = sorted(schedule, key=lambda item: item.slot.starts_at)"
   ]
  },
  {
   "cell_type": "code",
   "execution_count": 20,
   "metadata": {},
   "outputs": [
    {
     "name": "stdout",
     "output_type": "stream",
     "text": [
      "Open Data projects with Python at 18-Sep-2016 10:15 in Room C\n",
      "An introduction to deep learning at 18-Sep-2016 11:15 in Room C\n",
      "Dive Into Object-oriented Python (cont.) at 18-Sep-2016 11:15 in Room A\n",
      "Python for Scientists (feat. Software Carpentry) at 18-Sep-2016 14:30 in Room C\n",
      "Data Wrangling with Python at 18-Sep-2016 14:30 in Room A\n",
      "Dive Into Object-oriented Python at 18-Sep-2016 16:30 in Room C\n",
      "Users are not the only people at 18-Sep-2016 16:30 in Room A\n"
     ]
    }
   ],
   "source": [
    "for item in schedule:\n",
    "    if item.event in workshops:\n",
    "        print(f\"{item.event.name} at {item.slot.starts_at} in {item.slot.venue}\")"
   ]
  },
  {
   "cell_type": "code",
   "execution_count": 21,
   "metadata": {},
   "outputs": [
    {
     "name": "stdout",
     "output_type": "stream",
     "text": [
      "Python and the Glories of the UNIX Tradition at 16-Sep-2016 09:10 in Assembly Room\n",
      "Folklore and fantasy in the information age at 17-Sep-2016 09:10 in Assembly Room\n",
      "An Arabish lesson: Introducing Django to the foreign world at 18-Sep-2016 09:10 in Assembly Room\n"
     ]
    }
   ],
   "source": [
    "for item in schedule:\n",
    "    if item.event in plenary_talks:\n",
    "        print(f\"{item.event.name} at {item.slot.starts_at} in {item.slot.venue}\")"
   ]
  },
  {
   "cell_type": "code",
   "execution_count": 22,
   "metadata": {},
   "outputs": [
    {
     "name": "stdout",
     "output_type": "stream",
     "text": [
      "Transforming the government’s Digital Marketplace from portal to platform at 16-Sep-2016 10:15 in Assembly room\n",
      "The state of PyPy at 16-Sep-2016 11:15 in Room D\n",
      "An Introduction to Deep Learning with TensorFlow at 16-Sep-2016 11:15 in Ferrier Hall\n",
      "Simulating a CPU with Python or: surprising programs you might have thought were better written in C at 16-Sep-2016 11:15 in Assembly room\n",
      "Distributed systems from scratch: lessons learned the hard way! at 16-Sep-2016 12:00 in Assembly room\n",
      "Taking control of your Bluetooth devices at 16-Sep-2016 12:00 in Room D\n",
      "Assessing performance of Support Vector Machine kernels to detect interactions in genotyped data at 16-Sep-2016 12:00 in Ferrier Hall\n",
      "An Introduction to web scraping using Python at 16-Sep-2016 12:30 in Assembly room\n",
      "A data processing toolbox for agile scientific research at 16-Sep-2016 12:30 in Room D\n",
      "Lessons learned from organizing SciPy Latin America 2016 at 16-Sep-2016 12:30 in Ferrier Hall\n",
      "Timezones: A tale of (more than) two cities at 16-Sep-2016 14:30 in Assembly room\n",
      "Scripting across hosts with Chopsticks at 16-Sep-2016 14:30 in Room D\n",
      "High School Pythonistas: What PYNAM did next. at 16-Sep-2016 14:30 in Ferrier Hall\n",
      "I love being Pythonic, you? at 16-Sep-2016 15:00 in Room D\n",
      "The Art of Doing Nothing – Using profiling to speed up your code at 16-Sep-2016 15:00 in Ferrier Hall\n",
      "Introducing type hints - challenges and lessons at 16-Sep-2016 15:00 in Assembly room\n",
      "Python, Locales and Writing Systems at 16-Sep-2016 15:30 in Assembly room\n",
      "Declarative user interfaces in Python using ENAML at 16-Sep-2016 15:30 in Room D\n",
      "So you \"want\" to maintain a Python legacy code base? at 16-Sep-2016 15:30 in Ferrier Hall\n",
      "My journey from wxPython to PyQt at 16-Sep-2016 16:30 in Room D\n",
      "An introduction to property-based testing and Hypothesis at 16-Sep-2016 16:30 in Ferrier Hall\n",
      "Using Machine Learning to solve a classification problem with scikit-learn - a practical walkthrough at 16-Sep-2016 17:00 in Assembly room\n",
      "The Breakup: Monolith to Microservices at 16-Sep-2016 17:00 in Room D\n",
      "Building a Python Cake: Testing The Layers of Your Application at 17-Sep-2016 10:15 in Room D\n",
      "Test-Driven Data Analysis at 17-Sep-2016 10:15 in Ferrier Hall\n",
      "The CSD Python API – Helping the world’s structural chemists innovate at 17-Sep-2016 10:15 in Room C\n",
      "recipy: completely effortless provenance for Python at 17-Sep-2016 10:15 in Assembly room\n",
      "Django REST framework: Schemas, Hypermedia & Client libraries. at 17-Sep-2016 11:15 in Ferrier Hall\n",
      "Python in Medicine: ventilator data at 17-Sep-2016 11:15 in Assembly room\n",
      "How to Automate your Data Cleanup with Python at 17-Sep-2016 11:15 in Room C\n",
      "Developing a Zero boilerplate library for Raspberry Pi GPIO at 17-Sep-2016 11:15 in Room D\n",
      "Behind the scenes: writing tutorials at 17-Sep-2016 12:00 in Assembly room\n",
      "From QA to UX - Learning how to accommodate developers at 17-Sep-2016 12:00 in Room D\n",
      "Python and static types: Let's use mypy! at 17-Sep-2016 12:00 in Ferrier Hall\n",
      "Ancient Greek Philosophy, Medieval Mental Models and 21st Century Technology at 17-Sep-2016 12:00 in Room C\n",
      "PiNet - A project that was never intended to be... at 17-Sep-2016 12:30 in Assembly room\n",
      "Type checking - Whose responsibility is it? at 17-Sep-2016 12:30 in Room D\n",
      "Form Follows Functions at 17-Sep-2016 12:30 in Ferrier Hall\n",
      "Some challenges in automatic English text correction at 17-Sep-2016 12:30 in Room C\n",
      "Creating a reproducible more secure python application at 17-Sep-2016 14:30 in Room D\n",
      "Addition: well, that escalated quickly! at 17-Sep-2016 14:30 in Assembly room\n",
      "Chat bots: What is AI? at 17-Sep-2016 15:00 in Assembly room\n",
      "Getting started with requests HTTP library at 17-Sep-2016 15:00 in Room D\n",
      "Why /dev/random is a horrible idea and other problems you didn't know you had yet at 17-Sep-2016 15:30 in Assembly room\n",
      "Symbolic Computation with Python using SymPy at 17-Sep-2016 15:30 in Room D\n",
      "5 mistakes you will make building a Python Software House at 17-Sep-2016 16:30 in Ferrier Hall\n",
      "Introducing MetaClasses at 17-Sep-2016 16:30 in Room D\n",
      "Avoiding the \"left-pad\" problem: How to secure your pip install process at 17-Sep-2016 16:30 in Room C\n",
      "Attempting to Win at Blackjack at 17-Sep-2016 16:30 in Assembly room\n",
      "Lessons learned from PHP at 17-Sep-2016 17:00 in Room C\n",
      "Life as the Sourcerer's Apprentice at 17-Sep-2016 17:00 in Assembly room\n",
      "Tech interviews that don't suck at 17-Sep-2016 17:00 in Room D\n",
      "Rewriting without rewriting - porting an ATC radar display to Python/Qt without starting from scratch at 17-Sep-2016 17:00 in Ferrier Hall\n",
      "Cerberus - Data Validation for Humans at 18-Sep-2016 10:15 in Assembly room\n",
      "An adventure in exploitation with Python at 18-Sep-2016 10:15 in Room A\n",
      "Cleaner unit testing with the Arrange Act Assert pattern at 18-Sep-2016 10:15 in Room D\n",
      "Developing CS education - how can you help at 18-Sep-2016 11:15 in Assembly room\n",
      "Why do kids need to code and how can we help? at 18-Sep-2016 12:00 in Assembly room\n",
      "Children's Day Show and Tell at 18-Sep-2016 12:30 in Room D\n",
      "django CMS in the real time web: how to mix CMS, websockets, REST for a fully real time experience at 18-Sep-2016 14:30 in Room D\n",
      "Neurodiversity in Technology at 18-Sep-2016 14:30 in Assembly room\n",
      "Build your Microservices with ZeroMQ at 18-Sep-2016 15:00 in Assembly room\n",
      "Easy solutions to hard problems at 18-Sep-2016 15:00 in Room D\n",
      "Using Python for National Cipher Challenge at 18-Sep-2016 15:30 in Assembly room\n",
      "Queueing and Python: pip install ciw at 18-Sep-2016 15:30 in Room D\n",
      "Fast Python? Don't Bother! at 18-Sep-2016 16:30 in Assembly room\n",
      "Euler's Key to Cryptography at 18-Sep-2016 16:30 in Room D\n",
      "Python Library Development at 18-Sep-2016 17:00 in Assembly room\n",
      "Prisoners, Cooperation and Spatial Structure at 18-Sep-2016 17:00 in Room D\n"
     ]
    }
   ],
   "source": [
    "for item in schedule:\n",
    "    if item.event in talks:\n",
    "        print(f\"{item.event.name} at {item.slot.starts_at} in {item.slot.venue}\")"
   ]
  },
  {
   "cell_type": "code",
   "execution_count": 23,
   "metadata": {},
   "outputs": [
    {
     "name": "stdout",
     "output_type": "stream",
     "text": [
      "Developing CS education - how can you help at 18-Sep-2016 11:15 in Assembly room\n",
      "Why do kids need to code and how can we help? at 18-Sep-2016 12:00 in Assembly room\n",
      "Children's Day Show and Tell at 18-Sep-2016 12:30 in Room D\n"
     ]
    }
   ],
   "source": [
    "for item in schedule:\n",
    "    if item.event in talks and \"Education\" in item.event.tags:\n",
    "        print(f\"{item.event.name} at {item.slot.starts_at} in {item.slot.venue}\")"
   ]
  }
 ],
 "metadata": {
  "anaconda-cloud": {},
  "kernelspec": {
   "display_name": "Python [conda env:scheduler-test]",
   "language": "python",
   "name": "conda-env-scheduler-test-py"
  },
  "language_info": {
   "codemirror_mode": {
    "name": "ipython",
    "version": 3
   },
   "file_extension": ".py",
   "mimetype": "text/x-python",
   "name": "python",
   "nbconvert_exporter": "python",
   "pygments_lexer": "ipython3",
   "version": "3.6.1"
  }
 },
 "nbformat": 4,
 "nbformat_minor": 2
}
