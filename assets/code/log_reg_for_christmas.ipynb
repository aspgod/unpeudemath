{
 "cells": [
  {
   "cell_type": "code",
   "execution_count": 77,
   "metadata": {
    "collapsed": false
   },
   "outputs": [],
   "source": [
    "from sklearn.linear_model import LogisticRegression\n",
    "import pandas"
   ]
  },
  {
   "cell_type": "code",
   "execution_count": 52,
   "metadata": {
    "collapsed": true
   },
   "outputs": [],
   "source": [
    "df = pandas.read_csv(\"christmas.csv\")"
   ]
  },
  {
   "cell_type": "code",
   "execution_count": 53,
   "metadata": {
    "collapsed": false
   },
   "outputs": [
    {
     "data": {
      "text/html": [
       "<div>\n",
       "<table border=\"1\" class=\"dataframe\">\n",
       "  <thead>\n",
       "    <tr style=\"text-align: right;\">\n",
       "      <th></th>\n",
       "      <th>R</th>\n",
       "      <th>P</th>\n",
       "      <th>S</th>\n",
       "      <th>T</th>\n",
       "      <th>Promise</th>\n",
       "      <th>Cooperator</th>\n",
       "      <th>Defector</th>\n",
       "      <th>Alternator</th>\n",
       "      <th>TitForTat</th>\n",
       "      <th>TwoTitsForTat</th>\n",
       "      <th>Grudger</th>\n",
       "    </tr>\n",
       "  </thead>\n",
       "  <tbody>\n",
       "    <tr>\n",
       "      <th>count</th>\n",
       "      <td>3712.000000</td>\n",
       "      <td>3712.000000</td>\n",
       "      <td>3712.000000</td>\n",
       "      <td>3712.000000</td>\n",
       "      <td>3712</td>\n",
       "      <td>3712.000000</td>\n",
       "      <td>3712</td>\n",
       "      <td>3712</td>\n",
       "      <td>3712.000000</td>\n",
       "      <td>3712.000000</td>\n",
       "      <td>3712.000000</td>\n",
       "    </tr>\n",
       "    <tr>\n",
       "      <th>mean</th>\n",
       "      <td>10.813308</td>\n",
       "      <td>6.864224</td>\n",
       "      <td>2.924838</td>\n",
       "      <td>14.911099</td>\n",
       "      <td>1</td>\n",
       "      <td>0.112966</td>\n",
       "      <td>0</td>\n",
       "      <td>0</td>\n",
       "      <td>0.264653</td>\n",
       "      <td>0.311190</td>\n",
       "      <td>0.311190</td>\n",
       "    </tr>\n",
       "    <tr>\n",
       "      <th>std</th>\n",
       "      <td>3.273800</td>\n",
       "      <td>3.323466</td>\n",
       "      <td>2.733863</td>\n",
       "      <td>2.778379</td>\n",
       "      <td>0</td>\n",
       "      <td>0.076446</td>\n",
       "      <td>0</td>\n",
       "      <td>0</td>\n",
       "      <td>0.011558</td>\n",
       "      <td>0.034903</td>\n",
       "      <td>0.034903</td>\n",
       "    </tr>\n",
       "    <tr>\n",
       "      <th>min</th>\n",
       "      <td>3.000000</td>\n",
       "      <td>1.000000</td>\n",
       "      <td>0.000000</td>\n",
       "      <td>5.000000</td>\n",
       "      <td>True</td>\n",
       "      <td>0.000000</td>\n",
       "      <td>0</td>\n",
       "      <td>0</td>\n",
       "      <td>0.139900</td>\n",
       "      <td>0.253870</td>\n",
       "      <td>0.253870</td>\n",
       "    </tr>\n",
       "    <tr>\n",
       "      <th>25%</th>\n",
       "      <td>8.000000</td>\n",
       "      <td>4.000000</td>\n",
       "      <td>1.000000</td>\n",
       "      <td>13.000000</td>\n",
       "      <td>1</td>\n",
       "      <td>0.040185</td>\n",
       "      <td>0</td>\n",
       "      <td>0</td>\n",
       "      <td>0.256280</td>\n",
       "      <td>0.280100</td>\n",
       "      <td>0.280100</td>\n",
       "    </tr>\n",
       "    <tr>\n",
       "      <th>50%</th>\n",
       "      <td>11.000000</td>\n",
       "      <td>7.000000</td>\n",
       "      <td>2.000000</td>\n",
       "      <td>16.000000</td>\n",
       "      <td>1</td>\n",
       "      <td>0.118210</td>\n",
       "      <td>0</td>\n",
       "      <td>0</td>\n",
       "      <td>0.264805</td>\n",
       "      <td>0.307970</td>\n",
       "      <td>0.307970</td>\n",
       "    </tr>\n",
       "    <tr>\n",
       "      <th>75%</th>\n",
       "      <td>13.000000</td>\n",
       "      <td>9.000000</td>\n",
       "      <td>4.000000</td>\n",
       "      <td>17.000000</td>\n",
       "      <td>1</td>\n",
       "      <td>0.182820</td>\n",
       "      <td>0</td>\n",
       "      <td>0</td>\n",
       "      <td>0.273532</td>\n",
       "      <td>0.342145</td>\n",
       "      <td>0.342145</td>\n",
       "    </tr>\n",
       "    <tr>\n",
       "      <th>max</th>\n",
       "      <td>16.000000</td>\n",
       "      <td>15.000000</td>\n",
       "      <td>14.000000</td>\n",
       "      <td>18.000000</td>\n",
       "      <td>True</td>\n",
       "      <td>0.241680</td>\n",
       "      <td>0</td>\n",
       "      <td>0</td>\n",
       "      <td>0.294930</td>\n",
       "      <td>0.430050</td>\n",
       "      <td>0.430050</td>\n",
       "    </tr>\n",
       "  </tbody>\n",
       "</table>\n",
       "</div>"
      ],
      "text/plain": [
       "                 R            P            S            T Promise  \\\n",
       "count  3712.000000  3712.000000  3712.000000  3712.000000    3712   \n",
       "mean     10.813308     6.864224     2.924838    14.911099       1   \n",
       "std       3.273800     3.323466     2.733863     2.778379       0   \n",
       "min       3.000000     1.000000     0.000000     5.000000    True   \n",
       "25%       8.000000     4.000000     1.000000    13.000000       1   \n",
       "50%      11.000000     7.000000     2.000000    16.000000       1   \n",
       "75%      13.000000     9.000000     4.000000    17.000000       1   \n",
       "max      16.000000    15.000000    14.000000    18.000000    True   \n",
       "\n",
       "        Cooperator  Defector  Alternator    TitForTat  TwoTitsForTat  \\\n",
       "count  3712.000000      3712        3712  3712.000000    3712.000000   \n",
       "mean      0.112966         0           0     0.264653       0.311190   \n",
       "std       0.076446         0           0     0.011558       0.034903   \n",
       "min       0.000000         0           0     0.139900       0.253870   \n",
       "25%       0.040185         0           0     0.256280       0.280100   \n",
       "50%       0.118210         0           0     0.264805       0.307970   \n",
       "75%       0.182820         0           0     0.273532       0.342145   \n",
       "max       0.241680         0           0     0.294930       0.430050   \n",
       "\n",
       "           Grudger  \n",
       "count  3712.000000  \n",
       "mean      0.311190  \n",
       "std       0.034903  \n",
       "min       0.253870  \n",
       "25%       0.280100  \n",
       "50%       0.307970  \n",
       "75%       0.342145  \n",
       "max       0.430050  "
      ]
     },
     "execution_count": 53,
     "metadata": {},
     "output_type": "execute_result"
    }
   ],
   "source": [
    "df.describe()"
   ]
  },
  {
   "cell_type": "code",
   "execution_count": 54,
   "metadata": {
    "collapsed": false
   },
   "outputs": [
    {
     "data": {
      "text/html": [
       "<div>\n",
       "<table border=\"1\" class=\"dataframe\">\n",
       "  <thead>\n",
       "    <tr style=\"text-align: right;\">\n",
       "      <th></th>\n",
       "      <th>P</th>\n",
       "      <th>R</th>\n",
       "      <th>S</th>\n",
       "      <th>T</th>\n",
       "      <th>Promise</th>\n",
       "    </tr>\n",
       "  </thead>\n",
       "  <tbody>\n",
       "    <tr>\n",
       "      <th>3710</th>\n",
       "      <td>15</td>\n",
       "      <td>16</td>\n",
       "      <td>4</td>\n",
       "      <td>18</td>\n",
       "      <td>True</td>\n",
       "    </tr>\n",
       "    <tr>\n",
       "      <th>3711</th>\n",
       "      <td>15</td>\n",
       "      <td>16</td>\n",
       "      <td>5</td>\n",
       "      <td>18</td>\n",
       "      <td>True</td>\n",
       "    </tr>\n",
       "    <tr>\n",
       "      <th>0</th>\n",
       "      <td>1</td>\n",
       "      <td>1</td>\n",
       "      <td>1</td>\n",
       "      <td>1</td>\n",
       "      <td>False</td>\n",
       "    </tr>\n",
       "    <tr>\n",
       "      <th>1</th>\n",
       "      <td>2</td>\n",
       "      <td>2</td>\n",
       "      <td>2</td>\n",
       "      <td>2</td>\n",
       "      <td>False</td>\n",
       "    </tr>\n",
       "    <tr>\n",
       "      <th>2</th>\n",
       "      <td>3</td>\n",
       "      <td>3</td>\n",
       "      <td>3</td>\n",
       "      <td>3</td>\n",
       "      <td>False</td>\n",
       "    </tr>\n",
       "  </tbody>\n",
       "</table>\n",
       "</div>"
      ],
      "text/plain": [
       "       P   R  S   T Promise\n",
       "3710  15  16  4  18    True\n",
       "3711  15  16  5  18    True\n",
       "0      1   1  1   1   False\n",
       "1      2   2  2   2   False\n",
       "2      3   3  3   3   False"
      ]
     },
     "execution_count": 54,
     "metadata": {},
     "output_type": "execute_result"
    }
   ],
   "source": [
    "extra_df = pandas.DataFrame({'R':[1,2,3], 'P':[1,2,3], 'S':[1,2,3], 'T':[1,2,3], 'Promise':[False, False, False]})\n",
    "df = df.append(extra_df, ignore_index=False)\n",
    "df = df[[4, 6, 7, 8, 5]]\n",
    "df.tail()"
   ]
  },
  {
   "cell_type": "code",
   "execution_count": 62,
   "metadata": {
    "collapsed": false
   },
   "outputs": [],
   "source": [
    "X = df[df.columns[:4]]\n",
    "y = df[\"Promise\"]\n",
    "model = LogisticRegression()\n",
    "result = model.fit(X, y)"
   ]
  },
  {
   "cell_type": "code",
   "execution_count": 76,
   "metadata": {
    "collapsed": false
   },
   "outputs": [
    {
     "data": {
      "text/html": [
       "<div>\n",
       "<table border=\"1\" class=\"dataframe\">\n",
       "  <thead>\n",
       "    <tr style=\"text-align: right;\">\n",
       "      <th></th>\n",
       "      <th>Variables</th>\n",
       "      <th>Coefficients</th>\n",
       "    </tr>\n",
       "  </thead>\n",
       "  <tbody>\n",
       "    <tr>\n",
       "      <th>0</th>\n",
       "      <td>P</td>\n",
       "      <td>-0.254385</td>\n",
       "    </tr>\n",
       "    <tr>\n",
       "      <th>1</th>\n",
       "      <td>R</td>\n",
       "      <td>0.372757</td>\n",
       "    </tr>\n",
       "    <tr>\n",
       "      <th>2</th>\n",
       "      <td>S</td>\n",
       "      <td>-0.950092</td>\n",
       "    </tr>\n",
       "    <tr>\n",
       "      <th>3</th>\n",
       "      <td>T</td>\n",
       "      <td>1.095219</td>\n",
       "    </tr>\n",
       "  </tbody>\n",
       "</table>\n",
       "</div>"
      ],
      "text/plain": [
       "  Variables  Coefficients\n",
       "0         P     -0.254385\n",
       "1         R      0.372757\n",
       "2         S     -0.950092\n",
       "3         T      1.095219"
      ]
     },
     "execution_count": 76,
     "metadata": {},
     "output_type": "execute_result"
    }
   ],
   "source": [
    "pandas.DataFrame(list(zip(X.columns, model.coef_[0])), columns=[\"Variables\", \"Coefficients\"])"
   ]
  },
  {
   "cell_type": "markdown",
   "metadata": {},
   "source": [
    "We see that as $P, S$ increases the probability of the promise being kept decreases."
   ]
  }
 ],
 "metadata": {
  "kernelspec": {
   "display_name": "Python 3",
   "language": "python",
   "name": "python3"
  },
  "language_info": {
   "codemirror_mode": {
    "name": "ipython",
    "version": 3
   },
   "file_extension": ".py",
   "mimetype": "text/x-python",
   "name": "python",
   "nbconvert_exporter": "python",
   "pygments_lexer": "ipython3",
   "version": "3.5.0"
  }
 },
 "nbformat": 4,
 "nbformat_minor": 0
}
