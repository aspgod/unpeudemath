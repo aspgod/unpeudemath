{
 "cells": [
  {
   "cell_type": "code",
   "execution_count": 282,
   "metadata": {
    "collapsed": false
   },
   "outputs": [],
   "source": [
    "import pandas as pd\n",
    "import pulp\n",
    "import numpy as np\n",
    "import itertools"
   ]
  },
  {
   "cell_type": "markdown",
   "metadata": {},
   "source": [
    "Reading in the data:"
   ]
  },
  {
   "cell_type": "code",
   "execution_count": 283,
   "metadata": {
    "collapsed": false
   },
   "outputs": [],
   "source": [
    "df = pd.read_excel(\"availability.xls\")\n",
    "df = df.replace(\"OK\", 1)\n",
    "df = df.fillna(0)"
   ]
  },
  {
   "cell_type": "code",
   "execution_count": 287,
   "metadata": {
    "collapsed": false
   },
   "outputs": [
    {
     "data": {
      "text/html": [
       "<div>\n",
       "<table border=\"1\" class=\"dataframe\">\n",
       "  <thead>\n",
       "    <tr style=\"text-align: right;\">\n",
       "      <th></th>\n",
       "      <th>Mon 09:00 – 09:30</th>\n",
       "      <th>Mon 09:30 – 10:00</th>\n",
       "      <th>Mon 10:00 – 10:30</th>\n",
       "      <th>Mon 10:30 – 11:00</th>\n",
       "      <th>Mon 11:00 – 11:30</th>\n",
       "      <th>Mon 11:30 – 12:00</th>\n",
       "      <th>Mon 12:00 – 12:30</th>\n",
       "      <th>Mon 12:30 – 13:00</th>\n",
       "      <th>Mon 13:00 – 13:30</th>\n",
       "      <th>Mon 13:30 – 14:00</th>\n",
       "      <th>...</th>\n",
       "      <th>Fri 13:00 – 13:30</th>\n",
       "      <th>Fri 13:30 – 14:00</th>\n",
       "      <th>Fri 14:00 – 14:30</th>\n",
       "      <th>Fri 14:30 – 15:00</th>\n",
       "      <th>Fri 15:00 – 15:30</th>\n",
       "      <th>Fri 15:30 – 16:00</th>\n",
       "      <th>Fri 16:00 – 16:30</th>\n",
       "      <th>Fri 16:30 – 17:00</th>\n",
       "      <th>Fri 17:00 – 17:30</th>\n",
       "      <th>Fri 17:30 – 18:00</th>\n",
       "    </tr>\n",
       "  </thead>\n",
       "  <tbody>\n",
       "    <tr>\n",
       "      <th>Rhys Lloyd - Alternative Maths</th>\n",
       "      <td>0.0</td>\n",
       "      <td>0.0</td>\n",
       "      <td>0.0</td>\n",
       "      <td>0.0</td>\n",
       "      <td>0.0</td>\n",
       "      <td>0.0</td>\n",
       "      <td>0.0</td>\n",
       "      <td>0.0</td>\n",
       "      <td>0.0</td>\n",
       "      <td>0.0</td>\n",
       "      <td>...</td>\n",
       "      <td>0.0</td>\n",
       "      <td>0.0</td>\n",
       "      <td>0.0</td>\n",
       "      <td>0.0</td>\n",
       "      <td>0.0</td>\n",
       "      <td>0.0</td>\n",
       "      <td>0.0</td>\n",
       "      <td>0.0</td>\n",
       "      <td>0.0</td>\n",
       "      <td>0.0</td>\n",
       "    </tr>\n",
       "    <tr>\n",
       "      <th>Europa</th>\n",
       "      <td>0.0</td>\n",
       "      <td>0.0</td>\n",
       "      <td>0.0</td>\n",
       "      <td>0.0</td>\n",
       "      <td>0.0</td>\n",
       "      <td>0.0</td>\n",
       "      <td>0.0</td>\n",
       "      <td>0.0</td>\n",
       "      <td>0.0</td>\n",
       "      <td>0.0</td>\n",
       "      <td>...</td>\n",
       "      <td>0.0</td>\n",
       "      <td>0.0</td>\n",
       "      <td>0.0</td>\n",
       "      <td>0.0</td>\n",
       "      <td>0.0</td>\n",
       "      <td>0.0</td>\n",
       "      <td>0.0</td>\n",
       "      <td>0.0</td>\n",
       "      <td>0.0</td>\n",
       "      <td>0.0</td>\n",
       "    </tr>\n",
       "    <tr>\n",
       "      <th>L.A.S.T Resort</th>\n",
       "      <td>0.0</td>\n",
       "      <td>0.0</td>\n",
       "      <td>0.0</td>\n",
       "      <td>0.0</td>\n",
       "      <td>0.0</td>\n",
       "      <td>0.0</td>\n",
       "      <td>0.0</td>\n",
       "      <td>1.0</td>\n",
       "      <td>0.0</td>\n",
       "      <td>0.0</td>\n",
       "      <td>...</td>\n",
       "      <td>0.0</td>\n",
       "      <td>0.0</td>\n",
       "      <td>0.0</td>\n",
       "      <td>0.0</td>\n",
       "      <td>0.0</td>\n",
       "      <td>0.0</td>\n",
       "      <td>0.0</td>\n",
       "      <td>0.0</td>\n",
       "      <td>0.0</td>\n",
       "      <td>0.0</td>\n",
       "    </tr>\n",
       "    <tr>\n",
       "      <th>DividedByZeroStudios</th>\n",
       "      <td>0.0</td>\n",
       "      <td>0.0</td>\n",
       "      <td>0.0</td>\n",
       "      <td>0.0</td>\n",
       "      <td>0.0</td>\n",
       "      <td>0.0</td>\n",
       "      <td>0.0</td>\n",
       "      <td>0.0</td>\n",
       "      <td>0.0</td>\n",
       "      <td>0.0</td>\n",
       "      <td>...</td>\n",
       "      <td>0.0</td>\n",
       "      <td>0.0</td>\n",
       "      <td>0.0</td>\n",
       "      <td>0.0</td>\n",
       "      <td>0.0</td>\n",
       "      <td>0.0</td>\n",
       "      <td>0.0</td>\n",
       "      <td>0.0</td>\n",
       "      <td>0.0</td>\n",
       "      <td>0.0</td>\n",
       "    </tr>\n",
       "    <tr>\n",
       "      <th>Effervescence</th>\n",
       "      <td>0.0</td>\n",
       "      <td>0.0</td>\n",
       "      <td>0.0</td>\n",
       "      <td>0.0</td>\n",
       "      <td>1.0</td>\n",
       "      <td>1.0</td>\n",
       "      <td>0.0</td>\n",
       "      <td>0.0</td>\n",
       "      <td>0.0</td>\n",
       "      <td>0.0</td>\n",
       "      <td>...</td>\n",
       "      <td>0.0</td>\n",
       "      <td>0.0</td>\n",
       "      <td>0.0</td>\n",
       "      <td>0.0</td>\n",
       "      <td>0.0</td>\n",
       "      <td>0.0</td>\n",
       "      <td>0.0</td>\n",
       "      <td>1.0</td>\n",
       "      <td>1.0</td>\n",
       "      <td>1.0</td>\n",
       "    </tr>\n",
       "  </tbody>\n",
       "</table>\n",
       "<p>5 rows × 82 columns</p>\n",
       "</div>"
      ],
      "text/plain": [
       "                                Mon 09:00 – 09:30  Mon 09:30 – 10:00  \\\n",
       "Rhys Lloyd - Alternative Maths                0.0                0.0   \n",
       "Europa                                        0.0                0.0   \n",
       "L.A.S.T Resort                                0.0                0.0   \n",
       "DividedByZeroStudios                          0.0                0.0   \n",
       "Effervescence                                 0.0                0.0   \n",
       "\n",
       "                                Mon 10:00 – 10:30  Mon 10:30 – 11:00  \\\n",
       "Rhys Lloyd - Alternative Maths                0.0                0.0   \n",
       "Europa                                        0.0                0.0   \n",
       "L.A.S.T Resort                                0.0                0.0   \n",
       "DividedByZeroStudios                          0.0                0.0   \n",
       "Effervescence                                 0.0                0.0   \n",
       "\n",
       "                                Mon 11:00 – 11:30  Mon 11:30 – 12:00  \\\n",
       "Rhys Lloyd - Alternative Maths                0.0                0.0   \n",
       "Europa                                        0.0                0.0   \n",
       "L.A.S.T Resort                                0.0                0.0   \n",
       "DividedByZeroStudios                          0.0                0.0   \n",
       "Effervescence                                 1.0                1.0   \n",
       "\n",
       "                                Mon 12:00 – 12:30  Mon 12:30 – 13:00  \\\n",
       "Rhys Lloyd - Alternative Maths                0.0                0.0   \n",
       "Europa                                        0.0                0.0   \n",
       "L.A.S.T Resort                                0.0                1.0   \n",
       "DividedByZeroStudios                          0.0                0.0   \n",
       "Effervescence                                 0.0                0.0   \n",
       "\n",
       "                                Mon 13:00 – 13:30  Mon 13:30 – 14:00  \\\n",
       "Rhys Lloyd - Alternative Maths                0.0                0.0   \n",
       "Europa                                        0.0                0.0   \n",
       "L.A.S.T Resort                                0.0                0.0   \n",
       "DividedByZeroStudios                          0.0                0.0   \n",
       "Effervescence                                 0.0                0.0   \n",
       "\n",
       "                                      ...          Fri 13:00 – 13:30  \\\n",
       "Rhys Lloyd - Alternative Maths        ...                        0.0   \n",
       "Europa                                ...                        0.0   \n",
       "L.A.S.T Resort                        ...                        0.0   \n",
       "DividedByZeroStudios                  ...                        0.0   \n",
       "Effervescence                         ...                        0.0   \n",
       "\n",
       "                                Fri 13:30 – 14:00  Fri 14:00 – 14:30  \\\n",
       "Rhys Lloyd - Alternative Maths                0.0                0.0   \n",
       "Europa                                        0.0                0.0   \n",
       "L.A.S.T Resort                                0.0                0.0   \n",
       "DividedByZeroStudios                          0.0                0.0   \n",
       "Effervescence                                 0.0                0.0   \n",
       "\n",
       "                                Fri 14:30 – 15:00  Fri 15:00 – 15:30  \\\n",
       "Rhys Lloyd - Alternative Maths                0.0                0.0   \n",
       "Europa                                        0.0                0.0   \n",
       "L.A.S.T Resort                                0.0                0.0   \n",
       "DividedByZeroStudios                          0.0                0.0   \n",
       "Effervescence                                 0.0                0.0   \n",
       "\n",
       "                                Fri 15:30 – 16:00  Fri 16:00 – 16:30  \\\n",
       "Rhys Lloyd - Alternative Maths                0.0                0.0   \n",
       "Europa                                        0.0                0.0   \n",
       "L.A.S.T Resort                                0.0                0.0   \n",
       "DividedByZeroStudios                          0.0                0.0   \n",
       "Effervescence                                 0.0                0.0   \n",
       "\n",
       "                                Fri 16:30 – 17:00  Fri 17:00 – 17:30  \\\n",
       "Rhys Lloyd - Alternative Maths                0.0                0.0   \n",
       "Europa                                        0.0                0.0   \n",
       "L.A.S.T Resort                                0.0                0.0   \n",
       "DividedByZeroStudios                          0.0                0.0   \n",
       "Effervescence                                 1.0                1.0   \n",
       "\n",
       "                                Fri 17:30 – 18:00  \n",
       "Rhys Lloyd - Alternative Maths                0.0  \n",
       "Europa                                        0.0  \n",
       "L.A.S.T Resort                                0.0  \n",
       "DividedByZeroStudios                          0.0  \n",
       "Effervescence                                 1.0  \n",
       "\n",
       "[5 rows x 82 columns]"
      ]
     },
     "execution_count": 287,
     "metadata": {},
     "output_type": "execute_result"
    }
   ],
   "source": [
    "df.head()"
   ]
  },
  {
   "cell_type": "markdown",
   "metadata": {},
   "source": [
    "Transform the data in to a matrix:"
   ]
  },
  {
   "cell_type": "code",
   "execution_count": 288,
   "metadata": {
    "collapsed": false
   },
   "outputs": [
    {
     "data": {
      "text/plain": [
       "array([[0.0, 0.0, 0.0, ..., 0.0, 0.0, 0.0],\n",
       "       [0.0, 0.0, 0.0, ..., 0.0, 0.0, 0.0],\n",
       "       [0.0, 0.0, 0.0, ..., 0.0, 0.0, 0.0],\n",
       "       ..., \n",
       "       [0.0, 0.0, 0.0, ..., 1.0, 1.0, 1.0],\n",
       "       [0.0, 0.0, 0.0, ..., 0.0, 0.0, 0.0],\n",
       "       [0.0, 0.0, 0.0, ..., 0.0, 0.0, 0.0]], dtype=object)"
      ]
     },
     "execution_count": 288,
     "metadata": {},
     "output_type": "execute_result"
    }
   ],
   "source": [
    "A = np.array(df)\n",
    "A"
   ]
  },
  {
   "cell_type": "markdown",
   "metadata": {},
   "source": [
    "Create the integer linear problem:"
   ]
  },
  {
   "cell_type": "code",
   "execution_count": 289,
   "metadata": {
    "collapsed": false
   },
   "outputs": [],
   "source": [
    "M, N = A.shape  # Dimensions\n",
    "prob = pulp.LpProblem(\"Scheduling\")\n",
    "x = pulp.LpVariable.dicts(\"x\", itertools.product(range(M), range(N)), \n",
    "                          cat=pulp.LpBinary)  # Variables"
   ]
  },
  {
   "cell_type": "markdown",
   "metadata": {},
   "source": [
    "Constraints:\n",
    "\n",
    "$$x_{ij} \\leq A_{ij}$$\n",
    "\n",
    "Ie $x_{ij}$ can be 1 iff team $i$ is available in slot $j$."
   ]
  },
  {
   "cell_type": "code",
   "execution_count": 290,
   "metadata": {
    "collapsed": false
   },
   "outputs": [],
   "source": [
    "for index in x:  \n",
    "    try:\n",
    "        x[index].upBound = float(A[index])\n",
    "    except ValueError:  # Seemed to be an artifact in the matrix\n",
    "        x[index].upBound = 0"
   ]
  },
  {
   "cell_type": "markdown",
   "metadata": {},
   "source": [
    "$$\\sum_{i=1}^{M}x_{ij}\\leq1$$\n",
    "\n",
    "Ie slot $j$ can only be used by one team."
   ]
  },
  {
   "cell_type": "code",
   "execution_count": 291,
   "metadata": {
    "collapsed": false
   },
   "outputs": [],
   "source": [
    "for slot in range(N):                                                                                                                        \n",
    "    prob += sum(x[(team, slot)] for team in range(M)) <= 1 "
   ]
  },
  {
   "cell_type": "markdown",
   "metadata": {},
   "source": [
    "$$\\sum_{j=1}^{N}x_{ij}=1$$\n",
    "\n",
    "Ie team $i$ uses exactly one slot."
   ]
  },
  {
   "cell_type": "code",
   "execution_count": 292,
   "metadata": {
    "collapsed": true
   },
   "outputs": [],
   "source": [
    "for team in range(M):                                                                                                                        \n",
    "    prob += sum(x[(team, slot)] for slot in range(N)) == 1 "
   ]
  },
  {
   "cell_type": "code",
   "execution_count": 293,
   "metadata": {
    "collapsed": false
   },
   "outputs": [
    {
     "data": {
      "text/plain": [
       "1"
      ]
     },
     "execution_count": 293,
     "metadata": {},
     "output_type": "execute_result"
    }
   ],
   "source": [
    "prob.solve(pulp.GLPK())"
   ]
  },
  {
   "cell_type": "code",
   "execution_count": 294,
   "metadata": {
    "collapsed": false
   },
   "outputs": [
    {
     "data": {
      "text/plain": [
       "'Optimal'"
      ]
     },
     "execution_count": 294,
     "metadata": {},
     "output_type": "execute_result"
    }
   ],
   "source": [
    "pulp.LpStatus[prob.status]"
   ]
  },
  {
   "cell_type": "code",
   "execution_count": 295,
   "metadata": {
    "collapsed": false
   },
   "outputs": [],
   "source": [
    "solution = []\n",
    "for company in range(M):\n",
    "    for slot in range(N):\n",
    "        if x[(company, slot)].value() == 1:\n",
    "            solution.append([df.index[company], df.columns[slot]])\n",
    "df = pd.DataFrame(solution, columns=[\"Company\", \"Time slot\"])"
   ]
  },
  {
   "cell_type": "code",
   "execution_count": 296,
   "metadata": {
    "collapsed": false
   },
   "outputs": [
    {
     "name": "stdout",
     "output_type": "stream",
     "text": [
      "                           Company          Time slot\n",
      "14                          Apollo  Tue 16:30 – 17:00\n",
      "17                  Coding Cymraeg  Thu 13:30 – 14:00\n",
      "23                       Complexus  Tue 10:00 – 10:30\n",
      "3             DividedByZeroStudios  Mon 17:30 – 18:00\n",
      "4                    Effervescence  Fri 17:30 – 18:00\n",
      "1                           Europa  Thu 13:00 – 13:30\n",
      "11                        F.E.J.L.  Tue 15:00 – 15:30\n",
      "12                     Ferdie Amor  Wed 12:30 – 13:00\n",
      "16                         Framtak  Tue 17:30 – 18:00\n",
      "15                   FridgeVentory  Tue 17:00 – 17:30\n",
      "30                   Generic Group  Tue 16:00 – 16:30\n",
      "26                       GeoCampus  Tue 11:30 – 12:00\n",
      "5       Green and Russian Standard  Fri 16:30 – 17:00\n",
      "19                            JALE  Mon 16:00 – 16:30\n",
      "27                           JEM'D  Fri 16:00 – 16:30\n",
      "7                            J^2AG  Wed 16:30 – 17:00\n",
      "2                   L.A.S.T Resort  Mon 12:30 – 13:00\n",
      "29                MACT enterprises  Tue 12:30 – 13:00\n",
      "10                            MBAS  Thu 17:30 – 18:00\n",
      "21                            MRJL  Mon 15:30 – 16:00\n",
      "8                            Merge  Wed 09:00 – 09:30\n",
      "13                          MyTime  Tue 15:30 – 16:00\n",
      "22                        Noteable  Mon 17:00 – 17:30\n",
      "20                        Oakheart  Mon 15:00 – 15:30\n",
      "24                         PoshFit  Tue 10:30 – 11:00\n",
      "25                       ReCollect  Tue 11:00 – 11:30\n",
      "0   Rhys Lloyd - Alternative Maths  Wed 13:30 – 14:00\n",
      "6                           Room 1  Tue 14:00 – 14:30\n",
      "9                     StockSensors  Fri 11:30 – 12:00\n",
      "28                           Swigg  Tue 12:00 – 12:30\n",
      "18                        The Cyps  Mon 16:30 – 17:00\n",
      "31                    Ticket Tiger  Mon 13:00 – 13:30\n"
     ]
    }
   ],
   "source": [
    "print(df.sort_values(by=\"Company\"))"
   ]
  },
  {
   "cell_type": "code",
   "execution_count": 297,
   "metadata": {
    "collapsed": false
   },
   "outputs": [
    {
     "data": {
      "text/html": [
       "<div>\n",
       "<table border=\"1\" class=\"dataframe\">\n",
       "  <thead>\n",
       "    <tr style=\"text-align: right;\">\n",
       "      <th></th>\n",
       "      <th>Company</th>\n",
       "      <th>Time slot</th>\n",
       "    </tr>\n",
       "  </thead>\n",
       "  <tbody>\n",
       "    <tr>\n",
       "      <th>9</th>\n",
       "      <td>StockSensors</td>\n",
       "      <td>Fri 11:30 – 12:00</td>\n",
       "    </tr>\n",
       "    <tr>\n",
       "      <th>27</th>\n",
       "      <td>JEM'D</td>\n",
       "      <td>Fri 16:00 – 16:30</td>\n",
       "    </tr>\n",
       "    <tr>\n",
       "      <th>5</th>\n",
       "      <td>Green and Russian Standard</td>\n",
       "      <td>Fri 16:30 – 17:00</td>\n",
       "    </tr>\n",
       "    <tr>\n",
       "      <th>4</th>\n",
       "      <td>Effervescence</td>\n",
       "      <td>Fri 17:30 – 18:00</td>\n",
       "    </tr>\n",
       "    <tr>\n",
       "      <th>2</th>\n",
       "      <td>L.A.S.T Resort</td>\n",
       "      <td>Mon 12:30 – 13:00</td>\n",
       "    </tr>\n",
       "    <tr>\n",
       "      <th>31</th>\n",
       "      <td>Ticket Tiger</td>\n",
       "      <td>Mon 13:00 – 13:30</td>\n",
       "    </tr>\n",
       "    <tr>\n",
       "      <th>20</th>\n",
       "      <td>Oakheart</td>\n",
       "      <td>Mon 15:00 – 15:30</td>\n",
       "    </tr>\n",
       "    <tr>\n",
       "      <th>21</th>\n",
       "      <td>MRJL</td>\n",
       "      <td>Mon 15:30 – 16:00</td>\n",
       "    </tr>\n",
       "    <tr>\n",
       "      <th>19</th>\n",
       "      <td>JALE</td>\n",
       "      <td>Mon 16:00 – 16:30</td>\n",
       "    </tr>\n",
       "    <tr>\n",
       "      <th>18</th>\n",
       "      <td>The Cyps</td>\n",
       "      <td>Mon 16:30 – 17:00</td>\n",
       "    </tr>\n",
       "    <tr>\n",
       "      <th>22</th>\n",
       "      <td>Noteable</td>\n",
       "      <td>Mon 17:00 – 17:30</td>\n",
       "    </tr>\n",
       "    <tr>\n",
       "      <th>3</th>\n",
       "      <td>DividedByZeroStudios</td>\n",
       "      <td>Mon 17:30 – 18:00</td>\n",
       "    </tr>\n",
       "    <tr>\n",
       "      <th>1</th>\n",
       "      <td>Europa</td>\n",
       "      <td>Thu 13:00 – 13:30</td>\n",
       "    </tr>\n",
       "    <tr>\n",
       "      <th>17</th>\n",
       "      <td>Coding Cymraeg</td>\n",
       "      <td>Thu 13:30 – 14:00</td>\n",
       "    </tr>\n",
       "    <tr>\n",
       "      <th>10</th>\n",
       "      <td>MBAS</td>\n",
       "      <td>Thu 17:30 – 18:00</td>\n",
       "    </tr>\n",
       "    <tr>\n",
       "      <th>23</th>\n",
       "      <td>Complexus</td>\n",
       "      <td>Tue 10:00 – 10:30</td>\n",
       "    </tr>\n",
       "    <tr>\n",
       "      <th>24</th>\n",
       "      <td>PoshFit</td>\n",
       "      <td>Tue 10:30 – 11:00</td>\n",
       "    </tr>\n",
       "    <tr>\n",
       "      <th>25</th>\n",
       "      <td>ReCollect</td>\n",
       "      <td>Tue 11:00 – 11:30</td>\n",
       "    </tr>\n",
       "    <tr>\n",
       "      <th>26</th>\n",
       "      <td>GeoCampus</td>\n",
       "      <td>Tue 11:30 – 12:00</td>\n",
       "    </tr>\n",
       "    <tr>\n",
       "      <th>28</th>\n",
       "      <td>Swigg</td>\n",
       "      <td>Tue 12:00 – 12:30</td>\n",
       "    </tr>\n",
       "    <tr>\n",
       "      <th>29</th>\n",
       "      <td>MACT enterprises</td>\n",
       "      <td>Tue 12:30 – 13:00</td>\n",
       "    </tr>\n",
       "    <tr>\n",
       "      <th>6</th>\n",
       "      <td>Room 1</td>\n",
       "      <td>Tue 14:00 – 14:30</td>\n",
       "    </tr>\n",
       "    <tr>\n",
       "      <th>11</th>\n",
       "      <td>F.E.J.L.</td>\n",
       "      <td>Tue 15:00 – 15:30</td>\n",
       "    </tr>\n",
       "    <tr>\n",
       "      <th>13</th>\n",
       "      <td>MyTime</td>\n",
       "      <td>Tue 15:30 – 16:00</td>\n",
       "    </tr>\n",
       "    <tr>\n",
       "      <th>30</th>\n",
       "      <td>Generic Group</td>\n",
       "      <td>Tue 16:00 – 16:30</td>\n",
       "    </tr>\n",
       "    <tr>\n",
       "      <th>14</th>\n",
       "      <td>Apollo</td>\n",
       "      <td>Tue 16:30 – 17:00</td>\n",
       "    </tr>\n",
       "    <tr>\n",
       "      <th>15</th>\n",
       "      <td>FridgeVentory</td>\n",
       "      <td>Tue 17:00 – 17:30</td>\n",
       "    </tr>\n",
       "    <tr>\n",
       "      <th>16</th>\n",
       "      <td>Framtak</td>\n",
       "      <td>Tue 17:30 – 18:00</td>\n",
       "    </tr>\n",
       "    <tr>\n",
       "      <th>8</th>\n",
       "      <td>Merge</td>\n",
       "      <td>Wed 09:00 – 09:30</td>\n",
       "    </tr>\n",
       "    <tr>\n",
       "      <th>12</th>\n",
       "      <td>Ferdie Amor</td>\n",
       "      <td>Wed 12:30 – 13:00</td>\n",
       "    </tr>\n",
       "    <tr>\n",
       "      <th>0</th>\n",
       "      <td>Rhys Lloyd - Alternative Maths</td>\n",
       "      <td>Wed 13:30 – 14:00</td>\n",
       "    </tr>\n",
       "    <tr>\n",
       "      <th>7</th>\n",
       "      <td>J^2AG</td>\n",
       "      <td>Wed 16:30 – 17:00</td>\n",
       "    </tr>\n",
       "  </tbody>\n",
       "</table>\n",
       "</div>"
      ],
      "text/plain": [
       "                           Company          Time slot\n",
       "9                     StockSensors  Fri 11:30 – 12:00\n",
       "27                           JEM'D  Fri 16:00 – 16:30\n",
       "5       Green and Russian Standard  Fri 16:30 – 17:00\n",
       "4                    Effervescence  Fri 17:30 – 18:00\n",
       "2                   L.A.S.T Resort  Mon 12:30 – 13:00\n",
       "31                    Ticket Tiger  Mon 13:00 – 13:30\n",
       "20                        Oakheart  Mon 15:00 – 15:30\n",
       "21                            MRJL  Mon 15:30 – 16:00\n",
       "19                            JALE  Mon 16:00 – 16:30\n",
       "18                        The Cyps  Mon 16:30 – 17:00\n",
       "22                        Noteable  Mon 17:00 – 17:30\n",
       "3             DividedByZeroStudios  Mon 17:30 – 18:00\n",
       "1                           Europa  Thu 13:00 – 13:30\n",
       "17                  Coding Cymraeg  Thu 13:30 – 14:00\n",
       "10                            MBAS  Thu 17:30 – 18:00\n",
       "23                       Complexus  Tue 10:00 – 10:30\n",
       "24                         PoshFit  Tue 10:30 – 11:00\n",
       "25                       ReCollect  Tue 11:00 – 11:30\n",
       "26                       GeoCampus  Tue 11:30 – 12:00\n",
       "28                           Swigg  Tue 12:00 – 12:30\n",
       "29                MACT enterprises  Tue 12:30 – 13:00\n",
       "6                           Room 1  Tue 14:00 – 14:30\n",
       "11                        F.E.J.L.  Tue 15:00 – 15:30\n",
       "13                          MyTime  Tue 15:30 – 16:00\n",
       "30                   Generic Group  Tue 16:00 – 16:30\n",
       "14                          Apollo  Tue 16:30 – 17:00\n",
       "15                   FridgeVentory  Tue 17:00 – 17:30\n",
       "16                         Framtak  Tue 17:30 – 18:00\n",
       "8                            Merge  Wed 09:00 – 09:30\n",
       "12                     Ferdie Amor  Wed 12:30 – 13:00\n",
       "0   Rhys Lloyd - Alternative Maths  Wed 13:30 – 14:00\n",
       "7                            J^2AG  Wed 16:30 – 17:00"
      ]
     },
     "execution_count": 297,
     "metadata": {},
     "output_type": "execute_result"
    }
   ],
   "source": [
    "df.sort_values(by=\"Time slot\")"
   ]
  },
  {
   "cell_type": "code",
   "execution_count": null,
   "metadata": {
    "collapsed": true
   },
   "outputs": [],
   "source": []
  }
 ],
 "metadata": {
  "anaconda-cloud": {},
  "kernelspec": {
   "display_name": "Python [default]",
   "language": "python",
   "name": "python3"
  },
  "language_info": {
   "codemirror_mode": {
    "name": "ipython",
    "version": 3
   },
   "file_extension": ".py",
   "mimetype": "text/x-python",
   "name": "python",
   "nbconvert_exporter": "python",
   "pygments_lexer": "ipython3",
   "version": "3.5.2"
  }
 },
 "nbformat": 4,
 "nbformat_minor": 1
}
